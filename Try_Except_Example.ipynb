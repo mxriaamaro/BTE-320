{
  "nbformat": 4,
  "nbformat_minor": 0,
  "metadata": {
    "colab": {
      "provenance": [],
      "include_colab_link": true
    },
    "kernelspec": {
      "name": "python3",
      "display_name": "Python 3"
    },
    "language_info": {
      "name": "python"
    }
  },
  "cells": [
    {
      "cell_type": "markdown",
      "metadata": {
        "id": "view-in-github",
        "colab_type": "text"
      },
      "source": [
        "<a href=\"https://colab.research.google.com/github/mxriaamaro/BTE-320/blob/main/Try_Except_Example.ipynb\" target=\"_parent\"><img src=\"https://colab.research.google.com/assets/colab-badge.svg\" alt=\"Open In Colab\"/></a>"
      ]
    },
    {
      "cell_type": "code",
      "execution_count": null,
      "metadata": {
        "id": "OH0LKzaIOE7I"
      },
      "outputs": [],
      "source": [
        "def avg(alist):\n",
        "  try:\n",
        "    print(sum(alist)/len(alist))\n",
        "  except ZeroDivisionError:\n",
        "    print(\"Empty list, can't divide by zero. \")\n",
        "    return []\n",
        "  except TypeError:\n",
        "    print(\"The list must be numeric only.\")\n",
        "    return float('nan')\n",
        "  except NameError:\n",
        "    print(\"List contains an undefined variable. \")\n",
        "    return []\n",
        "  except:\n",
        "    print(\"Invalid.\")\n",
        "  else:\n",
        "    print(\"Average value found\")\n",
        "  finally:\n",
        "    print(\"This is always displayed!\")\n",
        "\n",
        "avg([1,2,3])"
      ]
    }
  ]
}