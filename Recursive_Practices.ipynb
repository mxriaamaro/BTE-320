{
  "nbformat": 4,
  "nbformat_minor": 0,
  "metadata": {
    "colab": {
      "provenance": [],
      "include_colab_link": true
    },
    "kernelspec": {
      "name": "python3",
      "display_name": "Python 3"
    },
    "language_info": {
      "name": "python"
    }
  },
  "cells": [
    {
      "cell_type": "markdown",
      "metadata": {
        "id": "view-in-github",
        "colab_type": "text"
      },
      "source": [
        "<a href=\"https://colab.research.google.com/github/mxriaamaro/BTE-320/blob/main/Recursive_Practices.ipynb\" target=\"_parent\"><img src=\"https://colab.research.google.com/assets/colab-badge.svg\" alt=\"Open In Colab\"/></a>"
      ]
    },
    {
      "cell_type": "code",
      "source": [
        "def countdown(n):\n",
        "  for var in range(n,-1,-1):\n",
        "    print(var)\n",
        "\n",
        "countdown(6)"
      ],
      "metadata": {
        "id": "Yt0Gqbq3Uvae",
        "outputId": "b1080417-b73e-4481-9649-985607194a81",
        "colab": {
          "base_uri": "https://localhost:8080/"
        }
      },
      "execution_count": null,
      "outputs": [
        {
          "output_type": "stream",
          "name": "stdout",
          "text": [
            "6\n",
            "5\n",
            "4\n",
            "3\n",
            "2\n",
            "1\n",
            "0\n"
          ]
        }
      ]
    },
    {
      "cell_type": "code",
      "source": [
        "def recursive_countdown(n):\n",
        "  if n == 0:\n",
        "    print(n)\n",
        "  else:\n",
        "    print(n)\n",
        "    recursive_countdown(n-1)\n",
        "\n",
        "recursive_countdown(3)"
      ],
      "metadata": {
        "id": "Ycw5uwH6UtfJ"
      },
      "execution_count": null,
      "outputs": []
    },
    {
      "cell_type": "code",
      "source": [
        "def summation(n):\n",
        "  sum = 0\n",
        "  while n >= 0:\n",
        "    sum = sum + n\n",
        "    n -=1\n",
        "  return sum\n",
        "\n",
        "print(summation(3))"
      ],
      "metadata": {
        "colab": {
          "base_uri": "https://localhost:8080/"
        },
        "id": "NdZFUN2iUo47",
        "outputId": "cc7a202f-94e4-4e92-a8df-5714fe3cadf6"
      },
      "execution_count": null,
      "outputs": [
        {
          "output_type": "stream",
          "name": "stdout",
          "text": [
            "6\n"
          ]
        }
      ]
    },
    {
      "cell_type": "code",
      "source": [
        "def recursive_summation(n):\n",
        "  if n == 0:\n",
        "    return 0\n",
        "  else:\n",
        "    return n + recursive_summation(n-1)\n",
        "\n",
        "recursive_summation(4)"
      ],
      "metadata": {
        "colab": {
          "base_uri": "https://localhost:8080/"
        },
        "id": "dzwVAskvUmim",
        "outputId": "03dea29d-93a2-457f-9738-b6e9b91f85de"
      },
      "execution_count": null,
      "outputs": [
        {
          "output_type": "execute_result",
          "data": {
            "text/plain": [
              "10"
            ]
          },
          "metadata": {},
          "execution_count": 3
        }
      ]
    },
    {
      "cell_type": "code",
      "source": [
        "def fibR(n):\n",
        "  if n == 0 or n == 1:\n",
        "    return 1\n",
        "  else:\n",
        "    return fibR(n-1) + fibR(n-2)\n",
        "\n",
        "for i in range(8):\n",
        "  print(fibR(i), end=\", \")"
      ],
      "metadata": {
        "colab": {
          "base_uri": "https://localhost:8080/"
        },
        "id": "a28xEIiUUj4l",
        "outputId": "c7eb1dc7-33a2-4531-9738-249afa36a156"
      },
      "execution_count": null,
      "outputs": [
        {
          "output_type": "stream",
          "name": "stdout",
          "text": [
            "1, 1, 2, 3, 5, 8, 13, 21, "
          ]
        }
      ]
    },
    {
      "cell_type": "code",
      "execution_count": null,
      "metadata": {
        "colab": {
          "base_uri": "https://localhost:8080/"
        },
        "id": "3C-B65P1EdMu",
        "outputId": "5968f962-e623-4d06-c8a3-c65c34d5c0d6"
      },
      "outputs": [
        {
          "output_type": "execute_result",
          "data": {
            "text/plain": [
              "5040"
            ]
          },
          "metadata": {},
          "execution_count": 6
        }
      ],
      "source": [
        "def factorialR(n):\n",
        "  if n==1 or n==0:\n",
        "    return 1\n",
        "  else:\n",
        "    return n*factorialR(n-1)\n",
        "\n",
        "factorialR(7)"
      ]
    },
    {
      "cell_type": "code",
      "source": [
        "def reversalR(word):\n",
        "  if len(word) == 1:\n",
        "    return word\n",
        "  else:\n",
        "    return word[len(word)-1] + reversalR(word[:-1])\n",
        "reversalR(\"Hello\")"
      ],
      "metadata": {
        "id": "TK3wN7xAFKhH",
        "colab": {
          "base_uri": "https://localhost:8080/",
          "height": 35
        },
        "outputId": "e06eed58-2127-4bb5-e4b0-c9e6df64d081"
      },
      "execution_count": null,
      "outputs": [
        {
          "output_type": "execute_result",
          "data": {
            "text/plain": [
              "'olleH'"
            ],
            "application/vnd.google.colaboratory.intrinsic+json": {
              "type": "string"
            }
          },
          "metadata": {},
          "execution_count": 1
        }
      ]
    }
  ]
}