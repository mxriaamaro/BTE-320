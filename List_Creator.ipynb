{
  "nbformat": 4,
  "nbformat_minor": 0,
  "metadata": {
    "colab": {
      "provenance": [],
      "include_colab_link": true
    },
    "kernelspec": {
      "name": "python3",
      "display_name": "Python 3"
    },
    "language_info": {
      "name": "python"
    }
  },
  "cells": [
    {
      "cell_type": "markdown",
      "metadata": {
        "id": "view-in-github",
        "colab_type": "text"
      },
      "source": [
        "<a href=\"https://colab.research.google.com/github/mxriaamaro/BTE-320/blob/main/List_Creator.ipynb\" target=\"_parent\"><img src=\"https://colab.research.google.com/assets/colab-badge.svg\" alt=\"Open In Colab\"/></a>"
      ]
    },
    {
      "cell_type": "markdown",
      "source": [
        "#List Creator\n",
        "Design a program that begins with an empty list and then asks for users for integer inputs which will repeatedly append the list.\n",
        "\n",
        "If the user enters 0, it will stop."
      ],
      "metadata": {
        "id": "hR8axUxrEAfG"
      }
    },
    {
      "cell_type": "code",
      "execution_count": null,
      "metadata": {
        "colab": {
          "base_uri": "https://localhost:8080/"
        },
        "id": "MLj_werGEACt",
        "outputId": "2b69418d-a205-47e3-e38f-8c0b92ed25af"
      },
      "outputs": [
        {
          "output_type": "stream",
          "name": "stdout",
          "text": [
            "Enter an integer to append to the list: 1\n",
            "Here is your current list: [1]\n",
            "Enter an integer to append to the list: 10\n",
            "Here is your current list: [1, 10]\n",
            "Enter an integer to append to the list: 2939\n",
            "Here is your current list: [1, 10, 2939]\n",
            "Enter an integer to append to the list: 0\n",
            "Here is your list: [1, 10, 2939]\n"
          ]
        }
      ],
      "source": [
        "List = []\n",
        "while True:\n",
        "  userinput = int(input('Enter an integer to append to the list: '))\n",
        "  if userinput == 0:\n",
        "    break\n",
        "  List.append(userinput)\n",
        "  print(f'Here is your current list: {List}')\n",
        "\n",
        "print(f'Here is your list: {List}')\n"
      ]
    }
  ]
}