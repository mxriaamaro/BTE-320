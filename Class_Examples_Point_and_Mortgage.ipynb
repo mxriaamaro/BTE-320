{
  "nbformat": 4,
  "nbformat_minor": 0,
  "metadata": {
    "colab": {
      "provenance": [],
      "include_colab_link": true
    },
    "kernelspec": {
      "name": "python3",
      "display_name": "Python 3"
    },
    "language_info": {
      "name": "python"
    }
  },
  "cells": [
    {
      "cell_type": "markdown",
      "metadata": {
        "id": "view-in-github",
        "colab_type": "text"
      },
      "source": [
        "<a href=\"https://colab.research.google.com/github/mxriaamaro/BTE-320/blob/main/Class_Examples_Point_and_Mortgage.ipynb\" target=\"_parent\"><img src=\"https://colab.research.google.com/assets/colab-badge.svg\" alt=\"Open In Colab\"/></a>"
      ]
    },
    {
      "cell_type": "code",
      "source": [
        "class Mortgage:\n",
        "  def __init__(self, Loan, Maturity, InterestRate):\n",
        "    self.Loan = Loan\n",
        "    self.Maturity = Maturity\n",
        "    self.__InterestRate = InterestRate\n",
        "\n",
        "  def __str__(self):\n",
        "    return f'Mortgage Info: \\n Loan Value: ${self.Loan}\\n Years of Maturity: {self.Maturity} years \\n Interest Rate: {self.__InterestRate}%'\n",
        "\n",
        "  def get_interest(self):\n",
        "    return self.interest\n",
        "\n",
        "  def set_interest(self, newInterest):\n",
        "    if newInterest >= 0:\n",
        "      self.__InterestRate = newInterest\n",
        "    else:\n",
        "      print('Interest must be non-negative')\n",
        "\n",
        "  def payment(self):\n",
        "    B = float(self.Loan)\n",
        "    n = float(self.Maturity) * 12\n",
        "    r = float(self.__InterestRate)/100\n",
        "    return B * (r * (1+r)**n)/(((1+r)**n)-1)\n",
        "\n",
        "ALoan = Mortgage(100000,30,6)\n",
        "print(ALoan)\n",
        "print(ALoan.payment())"
      ],
      "metadata": {
        "colab": {
          "base_uri": "https://localhost:8080/"
        },
        "id": "nqugR9mAUpPg",
        "outputId": "e3e25087-30ee-4bbc-d387-d39c9ec68e86"
      },
      "execution_count": null,
      "outputs": [
        {
          "output_type": "stream",
          "name": "stdout",
          "text": [
            "Mortgage Info: \n",
            " Loan Value: $100000\n",
            " Years of Maturity: 30 years \n",
            " Interest Rate: 6%\n",
            "6000.000004656286\n"
          ]
        }
      ]
    },
    {
      "cell_type": "code",
      "execution_count": null,
      "metadata": {
        "colab": {
          "base_uri": "https://localhost:8080/"
        },
        "id": "icLnpPwuJve-",
        "outputId": "5693fee3-1b74-4c40-8b1c-dbf2749eca85"
      },
      "outputs": [
        {
          "output_type": "stream",
          "name": "stdout",
          "text": [
            "5.0\n",
            "22.47220505424423\n"
          ]
        }
      ],
      "source": [
        "import math\n",
        "\n",
        "class Point:\n",
        "  def __init__(self, x, y):\n",
        "    self.x = x\n",
        "    self.y = y\n",
        "  def distance(self, other):\n",
        "    x_diff = self.x - other.x\n",
        "    y_diff = self.y - other.y\n",
        "    return math.sqrt(x_diff**2 + y_diff**2)\n",
        "\n",
        "class Point3D(Point):\n",
        "  def __init__(self, x, y, z):\n",
        "    super().__init__(x,y)\n",
        "    self.z = z\n",
        "  def distance(self, other):\n",
        "    x_diff = self.x - other.x\n",
        "    y_diff = self.y - other.y\n",
        "    z_diff = self.z - other.z\n",
        "    return math.sqrt(x_diff**2 + y_diff**2 + z_diff**2)\n",
        "\n",
        "Point1 = Point( 3, 4)\n",
        "Point2 = Point( 6, 8)\n",
        "\n",
        "p3d1 = Point3D(1,1,1)\n",
        "p3d2 = Point3D(10,11,19)\n",
        "\n",
        "print(Point1.distance(Point2))\n",
        "print(p3d1.distance(p3d2))\n"
      ]
    },
    {
      "cell_type": "code",
      "source": [
        "class Animal:\n",
        "  def __init__(self, legs):\n",
        "    print('Animal created')\n",
        "    self.legs = legs\n",
        "  def whoAmI(self):\n",
        "    print('I am an animal')\n",
        "\n",
        "class Bird(Animal):\n",
        "  def __init__(self, legs, wings):\n",
        "    super().__init__(legs)\n",
        "    self.wings = wings\n",
        "    print('Bird created')\n",
        "  def fly(self):\n",
        "    print('Birds can fly')\n",
        "\n",
        "a = Animal(4)\n",
        "b = Bird(2, 2)\n",
        "\n",
        "b.fly()"
      ],
      "metadata": {
        "colab": {
          "base_uri": "https://localhost:8080/"
        },
        "id": "_LxicFx2NglP",
        "outputId": "035404c1-a3ca-4ef5-b517-22c6bc22fe9a"
      },
      "execution_count": null,
      "outputs": [
        {
          "output_type": "stream",
          "name": "stdout",
          "text": [
            "Animal created\n",
            "Animal created\n",
            "Bird created\n",
            "Birds can fly\n"
          ]
        }
      ]
    }
  ]
}