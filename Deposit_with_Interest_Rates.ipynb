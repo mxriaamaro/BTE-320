{
  "nbformat": 4,
  "nbformat_minor": 0,
  "metadata": {
    "colab": {
      "provenance": [],
      "include_colab_link": true
    },
    "kernelspec": {
      "name": "python3",
      "display_name": "Python 3"
    },
    "language_info": {
      "name": "python"
    }
  },
  "cells": [
    {
      "cell_type": "markdown",
      "metadata": {
        "id": "view-in-github",
        "colab_type": "text"
      },
      "source": [
        "<a href=\"https://colab.research.google.com/github/mxriaamaro/BTE-320/blob/main/Deposit_with_Interest_Rates.ipynb\" target=\"_parent\"><img src=\"https://colab.research.google.com/assets/colab-badge.svg\" alt=\"Open In Colab\"/></a>"
      ]
    },
    {
      "cell_type": "markdown",
      "source": [
        "#Deposit with Interest Rates\n",
        "\n",
        "Interest rates depend on deposit amount, calculate the amount it will contain after the interest rate is applied.\n",
        "\n",
        "Ask for deposit\n",
        "\n",
        "Based on deposit,\n",
        "\n",
        "d>10000, interest rate is 3.5%\n",
        "\n",
        "1000<d<10000, 3.25%\n",
        "\n",
        "d<1000, interest rate is 3%\n",
        "\n"
      ],
      "metadata": {
        "id": "um_X0EWYooLL"
      }
    },
    {
      "cell_type": "code",
      "execution_count": null,
      "metadata": {
        "colab": {
          "base_uri": "https://localhost:8080/"
        },
        "id": "gCZa_Wbloncq",
        "outputId": "f4d51839-93e0-4345-9d89-20b00a0a7098"
      },
      "outputs": [
        {
          "output_type": "stream",
          "name": "stdout",
          "text": [
            "Hi, please enter your name: Kaitlyn\n",
            "Enter customer type (n: new, e:existing): e\n",
            "Enter deposit amount: $111800\n",
            "Kaitlyn, you will have $115713.0 in your account!\n"
          ]
        }
      ],
      "source": [
        "Name = input('Hi, please enter your name: ')\n",
        "Customer_type = input('Enter customer type (n: new, e:existing): ')\n",
        "Deposit = float(input(\"Enter deposit amount: $\"))\n",
        "\n",
        "if Customer_type == 'n':\n",
        "  Interest = 0.03\n",
        "else:\n",
        "  if Deposit <= 1000:\n",
        "    Interest = float(0.03)\n",
        "  elif Deposit <= 10000:\n",
        "    Interest = float(0.0325)\n",
        "  elif Deposit > 10000:\n",
        "    Interest = float (0.035)\n",
        "\n",
        "Amount = (1 + Interest) * Deposit\n",
        "print(f'{Name}, you will have ${round(Amount,2)} in your account!')"
      ]
    }
  ]
}